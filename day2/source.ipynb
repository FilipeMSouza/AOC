{
 "cells": [
  {
   "cell_type": "code",
   "execution_count": 116,
   "metadata": {},
   "outputs": [],
   "source": [
    "file = open('./defaultCase.txt', 'r')\n",
    "reports = []\n",
    "for line in file:\n",
    "    row = list(map(int, line.split()))  \n",
    "    reports.append(row)"
   ]
  },
  {
   "cell_type": "code",
   "execution_count": 117,
   "metadata": {},
   "outputs": [],
   "source": [
    "def getIsSafe(arr:int):\n",
    "    dif = []\n",
    "    is_less = []\n",
    "    is_higher = []\n",
    "    is_increase = (arr[0] < arr[1])\n",
    "    # false -> decrescente\n",
    "    # true -> crescente\n",
    "    for i in range(len(arr) - 1):\n",
    "        if( arr[i+1]): \n",
    "            dif.append(abs(arr[i] - arr[i+1]))\n",
    "            is_less.append(arr[i] < arr[i+1])\n",
    "            is_higher.append(arr[i] > arr[i+1])\n",
    "\n",
    "    is_valid_dif = list(map(lambda x: 1<=x<=3, dif))\n",
    "\n",
    "    is_less_result = all(i for i in is_less)\n",
    "    is_higher_result = all(i for i in is_higher)\n",
    "    dif_result = all(i for i in is_valid_dif)\n",
    "\n",
    "    if(is_increase):\n",
    "        return dif_result and is_less_result\n",
    "    \n",
    "    return dif_result and is_higher_result\n",
    "\n",
    "    "
   ]
  },
  {
   "cell_type": "code",
   "execution_count": 118,
   "metadata": {},
   "outputs": [
    {
     "name": "stdout",
     "output_type": "stream",
     "text": [
      "2\n"
     ]
    }
   ],
   "source": [
    "safe_count = 0\n",
    "for report in reports:\n",
    "    if(getIsSafe(report)):\n",
    "        safe_count += 1\n",
    "        \n",
    "print(safe_count) \n"
   ]
  }
 ],
 "metadata": {
  "kernelspec": {
   "display_name": "Python 3",
   "language": "python",
   "name": "python3"
  },
  "language_info": {
   "codemirror_mode": {
    "name": "ipython",
    "version": 3
   },
   "file_extension": ".py",
   "mimetype": "text/x-python",
   "name": "python",
   "nbconvert_exporter": "python",
   "pygments_lexer": "ipython3",
   "version": "3.12.0"
  }
 },
 "nbformat": 4,
 "nbformat_minor": 2
}
